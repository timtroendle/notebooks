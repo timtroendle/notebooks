{
 "cells": [
  {
   "cell_type": "code",
   "execution_count": 18,
   "metadata": {
    "collapsed": false
   },
   "outputs": [
    {
     "name": "stdout",
     "output_type": "stream",
     "text": [
      "env: ENERGY_PLUS_FOLDER=/Applications/EnergyPlus-8-5-0/\n",
      "env: DEMO_FILE_FOLDER=/Applications/EnergyPlus-8-5-0/ExampleFiles/BasicsFiles/\n",
      "env: COMMON_IDD_FILE=/Applications/EnergyPlus-8-5-0/Energy+.idd\n",
      "env: DEMO_FILE=Exercise1A.idf\n",
      "env: EPLUS2FMU_SCRIPT_FOLDER=/Users/Trondle/Downloads/EnergyPlusToFMU-v2/Scripts\n"
     ]
    }
   ],
   "source": [
    "%env ENERGY_PLUS_FOLDER=/Applications/EnergyPlus-8-5-0/\n",
    "%env DEMO_FILE_FOLDER=/Applications/EnergyPlus-8-5-0/ExampleFiles/BasicsFiles/\n",
    "%env COMMON_IDD_FILE=/Applications/EnergyPlus-8-5-0/Energy+.idd\n",
    "%env DEMO_FILE=Exercise1A.idf\n",
    "%env EPLUS2FMU_SCRIPT_FOLDER=/Users/Trondle/Downloads/EnergyPlusToFMU-v2/Scripts"
   ]
  },
  {
   "cell_type": "markdown",
   "metadata": {},
   "source": [
    "## Run Using EnergyPlus"
   ]
  },
  {
   "cell_type": "code",
   "execution_count": 11,
   "metadata": {
    "collapsed": true
   },
   "outputs": [],
   "source": [
    "rm -rf ./temp"
   ]
  },
  {
   "cell_type": "code",
   "execution_count": 12,
   "metadata": {
    "collapsed": false
   },
   "outputs": [
    {
     "name": "stdout",
     "output_type": "stream",
     "text": [
      "EnergyPlus Starting\n",
      "EnergyPlus, Version 8.5.0-c87e61b44b, YMD=2016.08.09 10:33\n",
      "Processing Data Dictionary\n",
      "Processing Input File\n",
      "Initializing Simulation\n",
      "Reporting Surfaces\n",
      "Beginning Primary Simulation\n",
      "Initializing New Environment Parameters\n",
      "Warming up {1}\n",
      "Warming up {2}\n",
      "Warming up {3}\n",
      "Warming up {4}\n",
      "Warming up {5}\n",
      "Warming up {6}\n",
      "Starting Simulation at 07/21 for CHICAGO_IL_USA COOLING .4% CONDITIONS DB=>MWB\n",
      "Initializing New Environment Parameters\n",
      "Warming up {1}\n",
      "Warming up {2}\n",
      "Warming up {3}\n",
      "Warming up {4}\n",
      "Warming up {5}\n",
      "Warming up {6}\n",
      "Starting Simulation at 01/21 for CHICAGO_IL_USA HEATING 99.6% CONDITIONS\n",
      "Writing final SQL reports\n",
      "EnergyPlus Run Time=00hr 00min  0.28sec\n"
     ]
    }
   ],
   "source": [
    "%%bash\n",
    "mkdir temp\n",
    "cd temp\n",
    "cp $DEMO_FILE_ORIGIN/$DEMO_FILE .\n",
    "energyplus $DEMO_FILE"
   ]
  },
  {
   "cell_type": "markdown",
   "metadata": {},
   "source": [
    "## Create FMU File"
   ]
  },
  {
   "cell_type": "code",
   "execution_count": 24,
   "metadata": {
    "collapsed": true
   },
   "outputs": [],
   "source": [
    "rm -rf ./temp"
   ]
  },
  {
   "cell_type": "code",
   "execution_count": 25,
   "metadata": {
    "collapsed": false
   },
   "outputs": [
    {
     "name": "stdout",
     "output_type": "stream",
     "text": [
      "Reading input and weather file for EnergyPlusToFMU program.\n"
     ]
    },
    {
     "name": "stderr",
     "output_type": "stream",
     "text": [
      "clang: warning: argument unused during compilation: '-fast'\n",
      "/Users/Trondle/Downloads/EnergyPlusToFMU-v2/SourceCode/EnergyPlus/temp-Exercise1A.c:1377:3: warning: '&&' within '||' [-Wlogical-op-parentheses]\n",
      "                && _c->curComm <=(_c->tStopFMU - \n",
      "                ^~~~~~~~~~~~~~~~~~~~~~~~~~~~~~~~\n",
      "/Users/Trondle/Downloads/EnergyPlusToFMU-v2/SourceCode/EnergyPlus/temp-Exercise1A.c:1377:3: note: place parentheses around the '&&' expression to silence this warning\n",
      "                && _c->curComm <=(_c->tStopFMU - \n",
      "                ^\n",
      "1 warning generated.\n",
      "clang: warning: argument unused during compilation: '-fast'\n",
      "clang: warning: argument unused during compilation: '-fast'\n",
      "clang: warning: argument unused during compilation: '-fast'\n",
      "clang: warning: argument unused during compilation: '-fast'\n",
      "/Users/Trondle/Downloads/EnergyPlusToFMU-v2/SourceCode/EnergyPlus/xml_parser_cosim.c:427:13: warning: comparison of constant -1 with expression of type 'Elm' is always false [-Wtautological-constant-out-of-range-compare]\n",
      "    return e==ANY_TYPE ? 1 : checkElementType(stackPeek(stack), e);\n",
      "           ~^ ~~~~~~~~\n",
      "/Users/Trondle/Downloads/EnergyPlusToFMU-v2/SourceCode/EnergyPlus/xml_parser_cosim.c:997:52: warning: if statement has empty body [-Wempty-body]\n",
      "                if(!strcmp(md->attributes[i], \"modelIdentifier\"));  \n",
      "                                                                 ^\n",
      "/Users/Trondle/Downloads/EnergyPlusToFMU-v2/SourceCode/EnergyPlus/xml_parser_cosim.c:997:52: note: put the semicolon on a separate line to silence this warning\n",
      "/Users/Trondle/Downloads/EnergyPlusToFMU-v2/SourceCode/EnergyPlus/xml_parser_cosim.c:1037:52: warning: if statement has empty body [-Wempty-body]\n",
      "                if(!strcmp(md->attributes[i], \"modelIdentifier\"));  \n",
      "                                                                 ^\n",
      "/Users/Trondle/Downloads/EnergyPlusToFMU-v2/SourceCode/EnergyPlus/xml_parser_cosim.c:1037:52: note: put the semicolon on a separate line to silence this warning\n",
      "3 warnings generated.\n",
      "clang: warning: argument unused during compilation: '-fast'\n",
      "/Users/Trondle/Downloads/EnergyPlusToFMU-v2/SourceCode/Expat/lib/xmlparse.c:1515:18: warning: implicit conversion from enumeration type 'enum XML_Status' to different enumeration type 'enum XML_Error' [-Wenum-conversion]\n",
      "        result = XML_STATUS_SUSPENDED;\n",
      "               ~ ^~~~~~~~~~~~~~~~~~~~\n",
      "/Users/Trondle/Downloads/EnergyPlusToFMU-v2/SourceCode/Expat/lib/expat.h:51:30: note: expanded from macro 'XML_STATUS_SUSPENDED'\n",
      "#define XML_STATUS_SUSPENDED XML_STATUS_SUSPENDED\n",
      "                             ^~~~~~~~~~~~~~~~~~~~\n",
      "/Users/Trondle/Downloads/EnergyPlusToFMU-v2/SourceCode/Expat/lib/xmlparse.c:1519:18: warning: implicit conversion from enumeration type 'enum XML_Status' to different enumeration type 'enum XML_Error' [-Wenum-conversion]\n",
      "        result = XML_STATUS_OK;\n",
      "               ~ ^~~~~~~~~~~~~\n",
      "/Users/Trondle/Downloads/EnergyPlusToFMU-v2/SourceCode/Expat/lib/expat.h:49:23: note: expanded from macro 'XML_STATUS_OK'\n",
      "#define XML_STATUS_OK XML_STATUS_OK\n",
      "                      ^~~~~~~~~~~~~\n",
      "/Users/Trondle/Downloads/EnergyPlusToFMU-v2/SourceCode/Expat/lib/xmlparse.c:1522:18: warning: implicit conversion from enumeration type 'enum XML_Error' to different enumeration type 'enum XML_Status' [-Wenum-conversion]\n",
      "          return result;\n",
      "          ~~~~~~ ^~~~~~\n",
      "/Users/Trondle/Downloads/EnergyPlusToFMU-v2/SourceCode/Expat/lib/xmlparse.c:1513:15: warning: enumeration value 'XML_FINISHED' not handled in switch [-Wswitch]\n",
      "      switch (ps_parsing) {\n",
      "              ^\n",
      "/Users/Trondle/Downloads/EnergyPlusToFMU-v2/SourceCode/Expat/lib/xmlparse.c:671:20: note: expanded from macro 'ps_parsing'\n",
      "#define ps_parsing (parser->m_parsingStatus.parsing)\n",
      "                   ^\n",
      "/Users/Trondle/Downloads/EnergyPlusToFMU-v2/SourceCode/Expat/lib/xmlparse.c:1557:12: warning: implicit conversion from enumeration type 'enum XML_Error' to different enumeration type 'enum XML_Status' [-Wenum-conversion]\n",
      "    return result;\n",
      "    ~~~~~~ ^~~~~~\n",
      "5 warnings generated.\n",
      "clang: warning: argument unused during compilation: '-fast'\n",
      "clang: warning: argument unused during compilation: '-fast'\n",
      "clang: warning: argument unused during compilation: '-fast'\n"
     ]
    }
   ],
   "source": [
    "%%bash\n",
    "mkdir temp\n",
    "cd temp\n",
    "cp $DEMO_FILE_ORIGIN/$DEMO_FILE .\n",
    "cat <<EOT >> $DEMO_FILE\n",
    "  ExternalInterface,\n",
    "    FunctionalMockupUnitExport;  !- Name of External Interface\n",
    "\n",
    "  ExternalInterface:FunctionalMockupUnitExport:From:Variable,\n",
    "    Environment, !- EnergyPlus Key Value\n",
    "    Zone Air Temperature, !- EnergyPlus Variable Name\n",
    "    AirTemp; !- FMU Variable Name\n",
    "EOT\n",
    "python $EPLUS2FMU_SCRIPT_FOLDER/EnergyPlusToFMU.py -i $COMMON_IDD_FILE $DEMO_FILE"
   ]
  },
  {
   "cell_type": "code",
   "execution_count": 27,
   "metadata": {
    "collapsed": false
   },
   "outputs": [
    {
     "name": "stdout",
     "output_type": "stream",
     "text": [
      "total 1992\r\n",
      "-rw-r--r--  1 Trondle  staff  643084  9 Aug 11:19 Exercise1A.fmu\r\n",
      "-rw-r--r--  1 Trondle  staff   20311  9 Aug 11:19 Exercise1A.idf\r\n",
      "-rwxr-xr-x  1 Trondle  staff  351108  9 Aug 11:19 \u001b[31midf-to-fmu-export-prep-darwin\u001b[m\u001b[m*\r\n"
     ]
    }
   ],
   "source": [
    "ls -l temp"
   ]
  },
  {
   "cell_type": "markdown",
   "metadata": {},
   "source": [
    "## Run FMU Co-Simulation"
   ]
  },
  {
   "cell_type": "code",
   "execution_count": 34,
   "metadata": {
    "collapsed": true
   },
   "outputs": [],
   "source": [
    "import os\n",
    "import pyfmi\n",
    "import matplotlib.pyplot as plt\n",
    "import numpy as np\n",
    "from pathlib import Path\n",
    "%matplotlib inline"
   ]
  },
  {
   "cell_type": "code",
   "execution_count": 39,
   "metadata": {
    "collapsed": false
   },
   "outputs": [],
   "source": [
    "DEMO_FILE = (Path('.') / 'temp' / os.environ['DEMO_FILE']).with_suffix('.fmu')\n",
    "T_START = 0\n",
    "T_END = 2 * 24 * 4\n",
    "NUMBER_TIME_STEPS = 2 * 24 * 4\n",
    "T_STEP_SIZE = float(T_END) / NUMBER_TIME_STEPS\n",
    "TIME_STEPS = np.linspace(T_START, T_END, NUMBER_TIME_STEPS)"
   ]
  },
  {
   "cell_type": "code",
   "execution_count": 40,
   "metadata": {
    "collapsed": false
   },
   "outputs": [
    {
     "ename": "FMUException",
     "evalue": "PyFMI does not support co-simulation tool",
     "output_type": "error",
     "traceback": [
      "\u001b[0;31m---------------------------------------------------------------------------\u001b[0m",
      "\u001b[0;31mFMUException\u001b[0m                              Traceback (most recent call last)",
      "\u001b[0;32m<ipython-input-40-3e36912e8bd0>\u001b[0m in \u001b[0;36m<module>\u001b[0;34m()\u001b[0m\n\u001b[0;32m----> 1\u001b[0;31m \u001b[0mmodel\u001b[0m \u001b[0;34m=\u001b[0m \u001b[0mpyfmi\u001b[0m\u001b[0;34m.\u001b[0m\u001b[0mload_fmu\u001b[0m\u001b[0;34m(\u001b[0m\u001b[0mDEMO_FILE\u001b[0m\u001b[0;34m.\u001b[0m\u001b[0mas_posix\u001b[0m\u001b[0;34m(\u001b[0m\u001b[0;34m)\u001b[0m\u001b[0;34m)\u001b[0m\u001b[0;34m\u001b[0m\u001b[0m\n\u001b[0m\u001b[1;32m      2\u001b[0m \u001b[0mmodel\u001b[0m\u001b[0;34m.\u001b[0m\u001b[0minstantiate_slave\u001b[0m\u001b[0;34m(\u001b[0m\u001b[0;34m)\u001b[0m\u001b[0;34m\u001b[0m\u001b[0m\n\u001b[1;32m      3\u001b[0m \u001b[0mmodel\u001b[0m\u001b[0;34m.\u001b[0m\u001b[0minitialize\u001b[0m\u001b[0;34m(\u001b[0m\u001b[0mT_START\u001b[0m\u001b[0;34m,\u001b[0m \u001b[0mT_END\u001b[0m\u001b[0;34m,\u001b[0m \u001b[0mTrue\u001b[0m\u001b[0;34m)\u001b[0m\u001b[0;34m\u001b[0m\u001b[0m\n",
      "\u001b[0;32msrc\\pyfmi\\fmi.pyx\u001b[0m in \u001b[0;36mpyfmi.fmi.load_fmu (src/pyfmi/fmi.c:75626)\u001b[0;34m()\u001b[0m\n",
      "\u001b[0;31mFMUException\u001b[0m: PyFMI does not support co-simulation tool"
     ]
    }
   ],
   "source": [
    "model = pyfmi.load_fmu(DEMO_FILE.as_posix())\n",
    "model.instantiate_slave()\n",
    "model.initialize(T_START, T_END, True)"
   ]
  },
  {
   "cell_type": "markdown",
   "metadata": {},
   "source": [
    "Apparently FMU co-simulation is not always of the same type. There seem to be two different types: one in which the solver is included in the compiled FMU, and one in which the FMU calls another tool (on the command line). PyFMI does not support the latter. EnergyPlus2FMU uses the latter. Hence, PyFMI and EnergyPlus2FMU currently do not work together. [Others have ran into the same probem before and managed to solve it.](https://groups.google.com/forum/#!topic/energyplus-fmu/d9AoiLYoGtk)\n",
    "\n",
    "The main developer of PyFMI [stated at the end of 2015](http://www.jmodelica.org/27626) that this won't be supported officially antime soon."
   ]
  },
  {
   "cell_type": "code",
   "execution_count": null,
   "metadata": {
    "collapsed": true
   },
   "outputs": [],
   "source": []
  }
 ],
 "metadata": {
  "kernelspec": {
   "display_name": "Python 2",
   "language": "python",
   "name": "python2"
  },
  "language_info": {
   "codemirror_mode": {
    "name": "ipython",
    "version": 2
   },
   "file_extension": ".py",
   "mimetype": "text/x-python",
   "name": "python",
   "nbconvert_exporter": "python",
   "pygments_lexer": "ipython2",
   "version": "2.7.12"
  }
 },
 "nbformat": 4,
 "nbformat_minor": 0
}
